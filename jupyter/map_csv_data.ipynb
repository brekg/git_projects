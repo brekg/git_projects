{
 "cells": [
  {
   "cell_type": "code",
   "execution_count": 5,
   "metadata": {},
   "outputs": [],
   "source": [
    "import tkinter as tk\n",
    "from tkinter import messagebox\n",
    "from tkinter import filedialog\n",
    "\n",
    "top = tk.Tk()\n",
    "top.geometry(\"100x100\")\n",
    "   \n",
    "def btn_quit():\n",
    "    top.destroy()\n",
    "\n",
    "def btn_open():\n",
    "    top.filename =  filedialog.askopenfilename(initialdir = \"/home/brek/Downloads/gis_data/US_Cell_Towers\",title = \"Select file\",filetypes = ((\"csv files\",\"*.csv\"),(\"all files\",\"*.*\")))\n",
    "    \n",
    "\n",
    "btn_open = tk.Button(top, text = \"Open\", command = btn_open, borderwidth = 1).grid(row=1, column=1)\n",
    "btn_quit = tk.Button(top, text = \"Quit\", command = btn_quit, borderwidth = 1).grid(row=2, column=1)\n",
    "\n",
    "\n",
    "\n",
    "top.mainloop()"
   ]
  },
  {
   "cell_type": "code",
   "execution_count": null,
   "metadata": {},
   "outputs": [],
   "source": []
  },
  {
   "cell_type": "code",
   "execution_count": null,
   "metadata": {},
   "outputs": [],
   "source": []
  }
 ],
 "metadata": {
  "kernelspec": {
   "display_name": "Python 3",
   "language": "python",
   "name": "python3"
  },
  "language_info": {
   "codemirror_mode": {
    "name": "ipython",
    "version": 3
   },
   "file_extension": ".py",
   "mimetype": "text/x-python",
   "name": "python",
   "nbconvert_exporter": "python",
   "pygments_lexer": "ipython3",
   "version": "3.7.1"
  }
 },
 "nbformat": 4,
 "nbformat_minor": 2
}
