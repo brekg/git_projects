{
 "cells": [
  {
   "cell_type": "code",
   "execution_count": 1,
   "metadata": {},
   "outputs": [],
   "source": [
    "import tkinter as tk\n",
    "from tkinter import messagebox\n",
    "from tkinter import filedialog\n",
    "import pandas as pd\n",
    "import geopandas as gpd\n",
    "from shapely.geometry import Point\n",
    "%matplotlib inline\n",
    "\n",
    "top = tk.Tk()\n",
    "top.geometry(\"100x100\")\n",
    "   \n",
    "def btn_quit():\n",
    "    top.destroy()\n",
    "\n",
    "def btn_open():\n",
    "    top.filename =  filedialog.askopenfilename(initialdir = \"/home/brek/Downloads/gis_data/US_Cell_Towers\",title = \"Select file\",filetypes = ((\"csv files\",\"*.csv\"),(\"all files\",\"*.*\")))\n",
    "    \n",
    "\n",
    "btn_open = tk.Button(top, text = \"Open\", command = btn_open, borderwidth = 1).grid(row=1, column=1)\n",
    "btn_quit = tk.Button(top, text = \"Quit\", command = btn_quit, borderwidth = 1).grid(row=2, column=1)\n",
    "\n",
    "\n",
    "\n",
    "top.mainloop()"
   ]
  },
  {
   "cell_type": "code",
   "execution_count": 19,
   "metadata": {},
   "outputs": [
    {
     "data": {
      "text/plain": [
       "<matplotlib.axes._subplots.AxesSubplot at 0xa2da22ac>"
      ]
     },
     "execution_count": 19,
     "metadata": {},
     "output_type": "execute_result"
    },
    {
     "data": {
      "image/png": "[encoded data removed]",
      "text/plain": [
       "<Figure size 432x288 with 1 Axes>"
      ]
     },
     "metadata": {
      "needs_background": "light"
     },
     "output_type": "display_data"
    }
   ],
   "source": [
    "#1. Open the CSV file with pandas\n",
    "df = pd.read_csv(\"/home/brek/Downloads/gis_data/US_Cell_Towers/All_USA_TOWERS.csv\")\n",
    "df.head()\n",
    "\n",
    "#2. feed lat/lon to shapley to create points\n",
    "points = df.apply(lambda row: Point(float(row.Longitude), float(row.Latitude)), axis=1)\n",
    "\n",
    "#3. Original dataframe + geometry = geodataframe\n",
    "all_towers = gpd.GeoDataFrame(df, geometry=points)\n",
    "\n",
    "#4. Set the coordinate system in this example Lat/Lon\n",
    "all_towers.crs = {'init': 'epsg:4326'}\n",
    "\n",
    "#5. Plot the results\n",
    "all_towers.plot()"
   ]
  },
  {
   "cell_type": "code",
   "execution_count": null,
   "metadata": {},
   "outputs": [],
   "source": []
  }
 ],
 "metadata": {
  "kernelspec": {
   "display_name": "Python 3",
   "language": "python",
   "name": "python3"
  },
  "language_info": {
   "codemirror_mode": {
    "name": "ipython",
    "version": 3
   },
   "file_extension": ".py",
   "mimetype": "text/x-python",
   "name": "python",
   "nbconvert_exporter": "python",
   "pygments_lexer": "ipython3",
   "version": "3.7.1"
  }
 },
 "nbformat": 4,
 "nbformat_minor": 2
}
